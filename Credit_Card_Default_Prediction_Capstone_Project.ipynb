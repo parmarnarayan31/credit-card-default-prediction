{
  "cells": [
    {
      "cell_type": "markdown",
      "metadata": {
        "id": "view-in-github",
        "colab_type": "text"
      },
      "source": [
        "<a href=\"https://colab.research.google.com/github/parmarnarayan31/credit-card-default-prediction/blob/main/Credit_Card_Default_Prediction_Capstone_Project.ipynb\" target=\"_parent\"><img src=\"https://colab.research.google.com/assets/colab-badge.svg\" alt=\"Open In Colab\"/></a>"
      ]
    },
    {
      "cell_type": "markdown",
      "metadata": {
        "id": "tOGC-qoyhJeX"
      },
      "source": [
        "# <b><u> Project Title : Predicting whether a customer will default on his/her credit card </u></b>"
      ]
    },
    {
      "cell_type": "markdown",
      "metadata": {
        "id": "Y06xIdG26kRF"
      },
      "source": [
        "## <b> Problem Description </b>\n",
        "\n",
        "### This project is aimed at predicting the case of customers default payments in Taiwan. From the perspective of risk management, the result of predictive accuracy of the estimated probability of default will be more valuable than the binary result of classification - credible or not credible clients. We can use the [K-S chart](https://www.listendata.com/2019/07/KS-Statistics-Python.html) to evaluate which customers will default on their credit card payments\n"
      ]
    },
    {
      "cell_type": "markdown",
      "metadata": {
        "id": "AlLxAtlziMbP"
      },
      "source": [
        "## <b> Data Description </b>\n",
        "\n",
        "### <b>Attribute Information: </b>\n",
        "\n",
        "### This research employed a binary variable, default payment (Yes = 1, No = 0), as the response variable. This study reviewed the literature and used the following 23 variables as explanatory variables:\n",
        "* ### X1: Amount of the given credit (NT dollar): it includes both the individual consumer credit and his/her family (supplementary) credit.\n",
        "* ### X2: Gender (1 = male; 2 = female).\n",
        "* ### X3: Education (1 = graduate school; 2 = university; 3 = high school; 4 = others).\n",
        "* ### X4: Marital status (1 = married; 2 = single; 3 = others).\n",
        "* ### X5: Age (year).\n",
        "* ### X6 - X11: History of past payment. We tracked the past monthly payment records (from April to September, 2005) as follows: X6 = the repayment status in September, 2005; X7 = the repayment status in August, 2005; . . .;X11 = the repayment status in April, 2005. The measurement scale for the repayment status is: -1 = pay duly; 1 = payment delay for one month; 2 = payment delay for two months; . . .; 8 = payment delay for eight months; 9 = payment delay for nine months and above.\n",
        "* ### X12-X17: Amount of bill statement (NT dollar). X12 = amount of bill statement in September, 2005; X13 = amount of bill statement in August, 2005; . . .; X17 = amount of bill statement in April, 2005.\n",
        "* ### X18-X23: Amount of previous payment (NT dollar). X18 = amount paid in September, 2005; X19 = amount paid in August, 2005; . . .;X23 = amount paid in April, 2005."
      ]
    },
    {
      "cell_type": "code",
      "execution_count": null,
      "metadata": {
        "id": "dByMsuzT8Tnw"
      },
      "outputs": [],
      "source": [
        "# import important library for project\n",
        "import pandas as pd\n",
        "import numpy as np\n",
        "import matplotlib\n",
        "import matplotlib.pyplot as plt\n",
        "import seaborn as sns\n",
        "sns.set()\n",
        "from sklearn.model_selection import train_test_split\n",
        "from sklearn.linear_model import LogisticRegression, RidgeClassifier\n",
        "from sklearn.tree import DecisionTreeClassifier\n",
        "from sklearn.ensemble import RandomForestClassifier\n",
        "from xgboost import XGBClassifier\n",
        "from sklearn.metrics import accuracy_score\n",
        "from sklearn.model_selection import GridSearchCV\n",
        "from sklearn.model_selection import RandomizedSearchCV\n",
        "from sklearn.preprocessing import MinMaxScaler\n",
        "\n",
        "from sklearn.metrics import roc_auc_score, confusion_matrix\n",
        "from sklearn.model_selection import cross_val_score \n",
        "from sklearn.metrics import recall_score\n",
        "from sklearn.metrics import accuracy_score,classification_report,confusion_matrix,mean_squared_error\n",
        "from sklearn.neighbors import KNeighborsClassifier\n",
        "from sklearn.model_selection import KFold\n"
      ]
    },
    {
      "cell_type": "code",
      "execution_count": null,
      "metadata": {
        "colab": {
          "base_uri": "https://localhost:8080/"
        },
        "id": "CPntYqNGeJIo",
        "outputId": "211cef49-d9a4-466b-f8d7-4472daf7f6b6"
      },
      "outputs": [
        {
          "output_type": "stream",
          "name": "stdout",
          "text": [
            "Mounted at /content/drive\n"
          ]
        }
      ],
      "source": [
        "# mount for join drive\n",
        "from google.colab import drive\n",
        "drive.mount('/content/drive')"
      ]
    },
    {
      "cell_type": "code",
      "execution_count": null,
      "metadata": {
        "id": "DvZkw8L1f893"
      },
      "outputs": [],
      "source": [
        "# !pip install xlrd==1.2.0"
      ]
    },
    {
      "cell_type": "code",
      "execution_count": null,
      "metadata": {
        "colab": {
          "base_uri": "https://localhost:8080/"
        },
        "id": "uMNNG6zuitx1",
        "outputId": "708d2ded-fca7-46d9-aea0-97a2e6b8a3a8"
      },
      "outputs": [
        {
          "output_type": "stream",
          "name": "stdout",
          "text": [
            "Looking in indexes: https://pypi.org/simple, https://us-python.pkg.dev/colab-wheels/public/simple/\n",
            "Collecting xlrd\n",
            "  Downloading xlrd-2.0.1-py2.py3-none-any.whl (96 kB)\n",
            "\u001b[K     |████████████████████████████████| 96 kB 4.8 MB/s \n",
            "\u001b[?25hInstalling collected packages: xlrd\n",
            "  Attempting uninstall: xlrd\n",
            "    Found existing installation: xlrd 1.2.0\n",
            "    Uninstalling xlrd-1.2.0:\n",
            "      Successfully uninstalled xlrd-1.2.0\n",
            "Successfully installed xlrd-2.0.1\n"
          ]
        }
      ],
      "source": [
        "!pip install --upgrade --force-reinstall xlrd"
      ]
    },
    {
      "cell_type": "code",
      "execution_count": null,
      "metadata": {
        "colab": {
          "base_uri": "https://localhost:8080/",
          "height": 345
        },
        "id": "OxiYgsPbePJd",
        "outputId": "2b309e70-38ad-4e77-a792-50d266a5d513"
      },
      "outputs": [
        {
          "output_type": "error",
          "ename": "IsADirectoryError",
          "evalue": "ignored",
          "traceback": [
            "\u001b[0;31m---------------------------------------------------------------------------\u001b[0m",
            "\u001b[0;31mIsADirectoryError\u001b[0m                         Traceback (most recent call last)",
            "\u001b[0;32m<ipython-input-6-c42550f33e7a>\u001b[0m in \u001b[0;36m<module>\u001b[0;34m\u001b[0m\n\u001b[1;32m      1\u001b[0m \u001b[0;31m#Data uploading\u001b[0m\u001b[0;34m\u001b[0m\u001b[0;34m\u001b[0m\u001b[0;34m\u001b[0m\u001b[0m\n\u001b[0;32m----> 2\u001b[0;31m \u001b[0mdf\u001b[0m \u001b[0;34m=\u001b[0m \u001b[0mpd\u001b[0m\u001b[0;34m.\u001b[0m\u001b[0mread_excel\u001b[0m\u001b[0;34m(\u001b[0m\u001b[0;34m'/content/drive'\u001b[0m\u001b[0;34m)\u001b[0m\u001b[0;34m\u001b[0m\u001b[0;34m\u001b[0m\u001b[0m\n\u001b[0m",
            "\u001b[0;32m/usr/local/lib/python3.8/dist-packages/pandas/util/_decorators.py\u001b[0m in \u001b[0;36mwrapper\u001b[0;34m(*args, **kwargs)\u001b[0m\n\u001b[1;32m    309\u001b[0m                     \u001b[0mstacklevel\u001b[0m\u001b[0;34m=\u001b[0m\u001b[0mstacklevel\u001b[0m\u001b[0;34m,\u001b[0m\u001b[0;34m\u001b[0m\u001b[0;34m\u001b[0m\u001b[0m\n\u001b[1;32m    310\u001b[0m                 )\n\u001b[0;32m--> 311\u001b[0;31m             \u001b[0;32mreturn\u001b[0m \u001b[0mfunc\u001b[0m\u001b[0;34m(\u001b[0m\u001b[0;34m*\u001b[0m\u001b[0margs\u001b[0m\u001b[0;34m,\u001b[0m \u001b[0;34m**\u001b[0m\u001b[0mkwargs\u001b[0m\u001b[0;34m)\u001b[0m\u001b[0;34m\u001b[0m\u001b[0;34m\u001b[0m\u001b[0m\n\u001b[0m\u001b[1;32m    312\u001b[0m \u001b[0;34m\u001b[0m\u001b[0m\n\u001b[1;32m    313\u001b[0m         \u001b[0;32mreturn\u001b[0m \u001b[0mwrapper\u001b[0m\u001b[0;34m\u001b[0m\u001b[0;34m\u001b[0m\u001b[0m\n",
            "\u001b[0;32m/usr/local/lib/python3.8/dist-packages/pandas/io/excel/_base.py\u001b[0m in \u001b[0;36mread_excel\u001b[0;34m(io, sheet_name, header, names, index_col, usecols, squeeze, dtype, engine, converters, true_values, false_values, skiprows, nrows, na_values, keep_default_na, na_filter, verbose, parse_dates, date_parser, thousands, comment, skipfooter, convert_float, mangle_dupe_cols, storage_options)\u001b[0m\n\u001b[1;32m    362\u001b[0m     \u001b[0;32mif\u001b[0m \u001b[0;32mnot\u001b[0m \u001b[0misinstance\u001b[0m\u001b[0;34m(\u001b[0m\u001b[0mio\u001b[0m\u001b[0;34m,\u001b[0m \u001b[0mExcelFile\u001b[0m\u001b[0;34m)\u001b[0m\u001b[0;34m:\u001b[0m\u001b[0;34m\u001b[0m\u001b[0;34m\u001b[0m\u001b[0m\n\u001b[1;32m    363\u001b[0m         \u001b[0mshould_close\u001b[0m \u001b[0;34m=\u001b[0m \u001b[0;32mTrue\u001b[0m\u001b[0;34m\u001b[0m\u001b[0;34m\u001b[0m\u001b[0m\n\u001b[0;32m--> 364\u001b[0;31m         \u001b[0mio\u001b[0m \u001b[0;34m=\u001b[0m \u001b[0mExcelFile\u001b[0m\u001b[0;34m(\u001b[0m\u001b[0mio\u001b[0m\u001b[0;34m,\u001b[0m \u001b[0mstorage_options\u001b[0m\u001b[0;34m=\u001b[0m\u001b[0mstorage_options\u001b[0m\u001b[0;34m,\u001b[0m \u001b[0mengine\u001b[0m\u001b[0;34m=\u001b[0m\u001b[0mengine\u001b[0m\u001b[0;34m)\u001b[0m\u001b[0;34m\u001b[0m\u001b[0;34m\u001b[0m\u001b[0m\n\u001b[0m\u001b[1;32m    365\u001b[0m     \u001b[0;32melif\u001b[0m \u001b[0mengine\u001b[0m \u001b[0;32mand\u001b[0m \u001b[0mengine\u001b[0m \u001b[0;34m!=\u001b[0m \u001b[0mio\u001b[0m\u001b[0;34m.\u001b[0m\u001b[0mengine\u001b[0m\u001b[0;34m:\u001b[0m\u001b[0;34m\u001b[0m\u001b[0;34m\u001b[0m\u001b[0m\n\u001b[1;32m    366\u001b[0m         raise ValueError(\n",
            "\u001b[0;32m/usr/local/lib/python3.8/dist-packages/pandas/io/excel/_base.py\u001b[0m in \u001b[0;36m__init__\u001b[0;34m(self, path_or_buffer, engine, storage_options)\u001b[0m\n\u001b[1;32m   1189\u001b[0m                 \u001b[0mext\u001b[0m \u001b[0;34m=\u001b[0m \u001b[0;34m\"xls\"\u001b[0m\u001b[0;34m\u001b[0m\u001b[0;34m\u001b[0m\u001b[0m\n\u001b[1;32m   1190\u001b[0m             \u001b[0;32melse\u001b[0m\u001b[0;34m:\u001b[0m\u001b[0;34m\u001b[0m\u001b[0;34m\u001b[0m\u001b[0m\n\u001b[0;32m-> 1191\u001b[0;31m                 ext = inspect_excel_format(\n\u001b[0m\u001b[1;32m   1192\u001b[0m                     \u001b[0mcontent_or_path\u001b[0m\u001b[0;34m=\u001b[0m\u001b[0mpath_or_buffer\u001b[0m\u001b[0;34m,\u001b[0m \u001b[0mstorage_options\u001b[0m\u001b[0;34m=\u001b[0m\u001b[0mstorage_options\u001b[0m\u001b[0;34m\u001b[0m\u001b[0;34m\u001b[0m\u001b[0m\n\u001b[1;32m   1193\u001b[0m                 )\n",
            "\u001b[0;32m/usr/local/lib/python3.8/dist-packages/pandas/io/excel/_base.py\u001b[0m in \u001b[0;36minspect_excel_format\u001b[0;34m(content_or_path, storage_options)\u001b[0m\n\u001b[1;32m   1068\u001b[0m         \u001b[0mcontent_or_path\u001b[0m \u001b[0;34m=\u001b[0m \u001b[0mBytesIO\u001b[0m\u001b[0;34m(\u001b[0m\u001b[0mcontent_or_path\u001b[0m\u001b[0;34m)\u001b[0m\u001b[0;34m\u001b[0m\u001b[0;34m\u001b[0m\u001b[0m\n\u001b[1;32m   1069\u001b[0m \u001b[0;34m\u001b[0m\u001b[0m\n\u001b[0;32m-> 1070\u001b[0;31m     with get_handle(\n\u001b[0m\u001b[1;32m   1071\u001b[0m         \u001b[0mcontent_or_path\u001b[0m\u001b[0;34m,\u001b[0m \u001b[0;34m\"rb\"\u001b[0m\u001b[0;34m,\u001b[0m \u001b[0mstorage_options\u001b[0m\u001b[0;34m=\u001b[0m\u001b[0mstorage_options\u001b[0m\u001b[0;34m,\u001b[0m \u001b[0mis_text\u001b[0m\u001b[0;34m=\u001b[0m\u001b[0;32mFalse\u001b[0m\u001b[0;34m\u001b[0m\u001b[0;34m\u001b[0m\u001b[0m\n\u001b[1;32m   1072\u001b[0m     ) as handle:\n",
            "\u001b[0;32m/usr/local/lib/python3.8/dist-packages/pandas/io/common.py\u001b[0m in \u001b[0;36mget_handle\u001b[0;34m(path_or_buf, mode, encoding, compression, memory_map, is_text, errors, storage_options)\u001b[0m\n\u001b[1;32m    709\u001b[0m         \u001b[0;32melse\u001b[0m\u001b[0;34m:\u001b[0m\u001b[0;34m\u001b[0m\u001b[0;34m\u001b[0m\u001b[0m\n\u001b[1;32m    710\u001b[0m             \u001b[0;31m# Binary mode\u001b[0m\u001b[0;34m\u001b[0m\u001b[0;34m\u001b[0m\u001b[0;34m\u001b[0m\u001b[0m\n\u001b[0;32m--> 711\u001b[0;31m             \u001b[0mhandle\u001b[0m \u001b[0;34m=\u001b[0m \u001b[0mopen\u001b[0m\u001b[0;34m(\u001b[0m\u001b[0mhandle\u001b[0m\u001b[0;34m,\u001b[0m \u001b[0mioargs\u001b[0m\u001b[0;34m.\u001b[0m\u001b[0mmode\u001b[0m\u001b[0;34m)\u001b[0m\u001b[0;34m\u001b[0m\u001b[0;34m\u001b[0m\u001b[0m\n\u001b[0m\u001b[1;32m    712\u001b[0m         \u001b[0mhandles\u001b[0m\u001b[0;34m.\u001b[0m\u001b[0mappend\u001b[0m\u001b[0;34m(\u001b[0m\u001b[0mhandle\u001b[0m\u001b[0;34m)\u001b[0m\u001b[0;34m\u001b[0m\u001b[0;34m\u001b[0m\u001b[0m\n\u001b[1;32m    713\u001b[0m \u001b[0;34m\u001b[0m\u001b[0m\n",
            "\u001b[0;31mIsADirectoryError\u001b[0m: [Errno 21] Is a directory: '/content/drive'"
          ]
        }
      ],
      "source": [
        "#Data uploading\n",
        "df = pd.read_excel('/content/drive')"
      ]
    },
    {
      "cell_type": "markdown",
      "metadata": {
        "id": "L93LeBcFaCkp"
      },
      "source": [
        "#Exploratory Data Analysis"
      ]
    },
    {
      "cell_type": "code",
      "execution_count": null,
      "metadata": {
        "id": "vd9NS4vmePr-"
      },
      "outputs": [],
      "source": [
        "# data head for analysis\n",
        "df.head()"
      ]
    },
    {
      "cell_type": "code",
      "execution_count": null,
      "metadata": {
        "id": "Al3sGBVujEVM"
      },
      "outputs": [],
      "source": [
        "# all columns \n",
        "df.columns"
      ]
    },
    {
      "cell_type": "code",
      "execution_count": null,
      "metadata": {
        "id": "4PIvuRPjahXQ"
      },
      "outputs": [],
      "source": [
        "df.tail()"
      ]
    },
    {
      "cell_type": "code",
      "execution_count": null,
      "metadata": {
        "id": "WJ3DZ6xha3aR"
      },
      "outputs": [],
      "source": [
        "# describe dataset\n",
        "df.describe()"
      ]
    },
    {
      "cell_type": "code",
      "execution_count": null,
      "metadata": {
        "id": "TjbDdI90a-jV"
      },
      "outputs": [],
      "source": [
        "# data info for analysis\n",
        "df.info()"
      ]
    },
    {
      "cell_type": "code",
      "execution_count": null,
      "metadata": {
        "id": "YUJcGTmkbDjp"
      },
      "outputs": [],
      "source": [
        "df.shape"
      ]
    },
    {
      "cell_type": "markdown",
      "metadata": {
        "id": "a1zZ5CWZb9mk"
      },
      "source": [
        "#Null values "
      ]
    },
    {
      "cell_type": "code",
      "execution_count": null,
      "metadata": {
        "id": "ZHjg7OjzbHdJ"
      },
      "outputs": [],
      "source": [
        "df.columns = df.iloc[0]\n",
        "df.drop(labels= 0, axis = 0, inplace = True)"
      ]
    },
    {
      "cell_type": "code",
      "execution_count": null,
      "metadata": {
        "id": "DxXbfBQJbrLI"
      },
      "outputs": [],
      "source": [
        "df.head()"
      ]
    },
    {
      "cell_type": "code",
      "execution_count": null,
      "metadata": {
        "id": "5HLCL7CobuOr"
      },
      "outputs": [],
      "source": [
        "df.shape"
      ]
    },
    {
      "cell_type": "code",
      "execution_count": null,
      "metadata": {
        "id": "I5-IxvY6bwWR"
      },
      "outputs": [],
      "source": [
        "# bar plot for defaulters percentage\n",
        "df.rename(columns = {'default payment next month': 'defaulters'}, inplace = True)"
      ]
    },
    {
      "cell_type": "code",
      "execution_count": null,
      "metadata": {
        "id": "wJyD03ixcWob"
      },
      "outputs": [],
      "source": [
        "ax= df['defaulters'].value_counts(normalize = True)*100\n",
        "ax.plot.bar(figsize=(6,6), color = ('r','y'))\n",
        "\n",
        "plt.title(\"Defaulters Percentage\", fontsize=15)\n",
        "for x,y in zip([0,1],ax):\n",
        "    plt.text(x,y,y,fontsize=12)\n",
        "plt.show()"
      ]
    },
    {
      "cell_type": "markdown",
      "metadata": {
        "id": "3S13z-VBdp8g"
      },
      "source": [
        " so we have 22.12% defaulters in our dataset and 77.88% persons are non defaulters"
      ]
    },
    {
      "cell_type": "code",
      "execution_count": null,
      "metadata": {
        "id": "-BhSD5GEc60x"
      },
      "outputs": [],
      "source": [
        "sns.distplot(df['LIMIT_BAL'])"
      ]
    },
    {
      "cell_type": "code",
      "execution_count": null,
      "metadata": {
        "id": "EOr44LZ7d4tU"
      },
      "outputs": [],
      "source": [
        "sns.distplot(df['AGE'])"
      ]
    },
    {
      "cell_type": "markdown",
      "metadata": {
        "id": "vDpSpjLleCYi"
      },
      "source": [
        " the data shows that most people are of age range 20-40 and a few only from 50-60 age group"
      ]
    },
    {
      "cell_type": "code",
      "execution_count": null,
      "metadata": {
        "id": "48O6W5Cqd9i7"
      },
      "outputs": [],
      "source": [
        "#  check the defaulters by age, sex, limit balance\n",
        "bins = [20,30,40,50,60,70,80]\n",
        "names = ['21-30','31-40','41-50','51-60','61-70','71-80']\n",
        "df['AGE_BIN'] = pd.cut(x=df.AGE, bins=bins, labels=names, right=True)\n",
        "\n",
        "age_cnt = df.AGE_BIN.value_counts()\n",
        "age_0 = (df.AGE_BIN[df['defaulters'] == 0].value_counts())\n",
        "age_1 = (df.AGE_BIN[df['defaulters'] == 1].value_counts())\n",
        "\n",
        "plt.subplots(figsize=(8,5))\n",
        "# sns.barplot(data=defaulters, x='AGE_BIN', y='LIMIT_BAL', hue='def_pay', ci=0)\n",
        "plt.bar(age_0.index, age_0.values, label='0', color = ('r'))\n",
        "plt.bar(age_1.index, age_1.values, label='1', color = ('y'))\n",
        "for x,y in zip(names,age_0):\n",
        "    plt.text(x,y,y,fontsize=12)\n",
        "for x,y in zip(names,age_1):\n",
        "    plt.text(x,y,y,fontsize=12)\n",
        "plt.xticks(fontsize=12)\n",
        "plt.yticks(fontsize=12)\n",
        "plt.title(\"Number of clients in each age group\", fontsize=15)\n",
        "plt.legend(loc='upper right', fontsize=15)\n",
        "plt.show()\n"
      ]
    },
    {
      "cell_type": "markdown",
      "metadata": {
        "id": "1cjhIQUOelu5"
      },
      "source": [
        " maximum clients from 21-30 age group followed by 31-40. \n",
        "Hence with increasing age group the number of clients that will default the payment next month is decreasing."
      ]
    },
    {
      "cell_type": "code",
      "execution_count": null,
      "metadata": {
        "id": "FQezZTndeZS6"
      },
      "outputs": [],
      "source": [
        "sns.FacetGrid(df, hue = 'defaulters', size = 5).map(sns.histplot, 'SEX').add_legend()"
      ]
    },
    {
      "cell_type": "code",
      "execution_count": null,
      "metadata": {
        "id": "ZmcRaGIKewW9"
      },
      "outputs": [],
      "source": [
        "sns.barplot(x ='SEX', y ='defaulters', data = df)"
      ]
    },
    {
      "cell_type": "markdown",
      "metadata": {
        "id": "W4mgXLJshoNw"
      },
      "source": [
        "So we have more male deafulters "
      ]
    },
    {
      "cell_type": "code",
      "execution_count": null,
      "metadata": {
        "id": "QoQ1fmlZhdkp"
      },
      "outputs": [],
      "source": [
        "bins_sex = [20,30,40,50,60,70,80]\n",
        "names = ['21-30','31-40','41-50','51-60','61-70','71-80']\n",
        "\n",
        "sex_1 = df[df['SEX'] == 1][df['defaulters'] ==1]['AGE_BIN'].value_counts()\n",
        "sex_2 = df[df['SEX'] == 2][df['defaulters'] ==1]['AGE_BIN'].value_counts()\n",
        "\n",
        "\n",
        "plt.bar(sex_2.index, sex_2.values, label='FEMALE', color = ('r'))\n",
        "plt.bar(sex_1.index, sex_1.values, label='MALE', color = ('y'))\n",
        "\n",
        "for x,y in zip(names,sex_2):\n",
        "    plt.text(x,y,y,fontsize=10)\n",
        "\n",
        "for x,y in zip(names,sex_1):\n",
        "    plt.text(x,y,y,fontsize=10)\n",
        "\n",
        "plt.xticks(fontsize=10)\n",
        "plt.yticks(fontsize= 10)\n",
        "\n",
        "plt.legend(loc='upper right', fontsize=10)\n",
        "plt.title(\"Number of defaulters order by Sex\", fontsize=15)\n"
      ]
    },
    {
      "cell_type": "markdown",
      "metadata": {
        "id": "nc7nJIypiCaN"
      },
      "source": [
        "Number of defaulters order by Sex\n"
      ]
    },
    {
      "cell_type": "markdown",
      "metadata": {
        "id": "xuCPkElqiS4R"
      },
      "source": [
        "* Regarding the attribute EDUCATION there are three categories not listed in the description of the dataset provided by the UCI website that corresponds to 0, 5, and 6.\n",
        "* While for MARRIAGE we can notice the presence of category 0 that does not correspond to any categories previously described."
      ]
    },
    {
      "cell_type": "code",
      "execution_count": null,
      "metadata": {
        "id": "2zGSSzrOh0TP"
      },
      "outputs": [],
      "source": [
        "df['MARRIAGE'].value_counts()"
      ]
    },
    {
      "cell_type": "code",
      "execution_count": null,
      "metadata": {
        "id": "VFtppkbCjxG2"
      },
      "outputs": [],
      "source": [
        "df['MARRIAGE'].replace(0,2, inplace = True)"
      ]
    },
    {
      "cell_type": "code",
      "execution_count": null,
      "metadata": {
        "id": "H58ww8RkjzgE"
      },
      "outputs": [],
      "source": [
        "ax = df[df['defaulters'] == 1]['MARRIAGE'].value_counts(normalize = True)*100\n",
        "ax.plot.bar(figsize=(6,6), color = ('r','y'))\n",
        "\n",
        "plt.title(\"Defaulters Percentage order by Marriage\", fontsize=15)\n",
        "for x,y in zip([0,1,2],ax):\n",
        "    plt.text(x,y,y,fontsize=12)\n",
        "plt.show()"
      ]
    },
    {
      "cell_type": "code",
      "execution_count": null,
      "metadata": {
        "id": "X1bvAzzykJN-"
      },
      "outputs": [],
      "source": [
        "# histplot with facegrid \n",
        "plt.figure(figsize=(10,12))\n",
        "sns.FacetGrid(df, row='defaulters', col = 'MARRIAGE').map(sns.histplot, 'AGE')\n"
      ]
    },
    {
      "cell_type": "markdown",
      "metadata": {
        "id": "5evREmxIkgid"
      },
      "source": [
        " married people between the age of 30-45 have maximum chances of being defaulters, same for unmarried. So i think marriage is not the case, Age is. "
      ]
    },
    {
      "cell_type": "code",
      "execution_count": null,
      "metadata": {
        "id": "sASPgdW7icCg"
      },
      "outputs": [],
      "source": [
        "df['EDUCATION'].value_counts()"
      ]
    },
    {
      "cell_type": "code",
      "execution_count": null,
      "metadata": {
        "id": "NVqpxkxckpel"
      },
      "outputs": [],
      "source": [
        "edu_condition =(df['EDUCATION'] == 5) | (df['EDUCATION'] == 6) | (df['EDUCATION'] == 4)"
      ]
    },
    {
      "cell_type": "code",
      "execution_count": null,
      "metadata": {
        "id": "50vVObhkkwcT"
      },
      "outputs": [],
      "source": [
        "df.loc[edu_condition, 'EDUCATION' ] = 3"
      ]
    },
    {
      "cell_type": "code",
      "execution_count": null,
      "metadata": {
        "id": "fJiKcFdIckec"
      },
      "outputs": [],
      "source": [
        "ax = df[df['defaulters'] == 1]['EDUCATION'].value_counts(normalize = True)*100\n",
        "ax.plot.bar(figsize=(6,6), color = ('r','y'))\n",
        "\n",
        "plt.title(\"Defaulters Percentage order by Education\", fontsize=15)\n",
        "for x,y in zip([0,1,2],ax):\n",
        "    plt.text(x,y,y,fontsize=12)\n",
        "plt.show()"
      ]
    },
    {
      "cell_type": "markdown",
      "metadata": {
        "id": "KPia0NsHlAWy"
      },
      "source": [
        "  graduate and high school students"
      ]
    },
    {
      "cell_type": "code",
      "execution_count": null,
      "metadata": {
        "id": "SdsETSKKii4b"
      },
      "outputs": [],
      "source": [
        "# Payment delay description\n",
        "df[['PAY_0', 'PAY_2', 'PAY_3', 'PAY_4', 'PAY_5', 'PAY_6']].describe()"
      ]
    },
    {
      "cell_type": "code",
      "execution_count": null,
      "metadata": {
        "id": "XH4hygiYiovQ"
      },
      "outputs": [],
      "source": [
        "# Amount of given credit limit\n",
        "df.LIMIT_BAL.describe()"
      ]
    },
    {
      "cell_type": "code",
      "execution_count": null,
      "metadata": {
        "id": "Z4vFywYUlaoO"
      },
      "outputs": [],
      "source": [
        " plt.figure(figsize = (14,6))\n",
        " plt.title('Amount of credit limit - Density Plot')\n",
        " sns.set_color_codes(\"pastel\")\n",
        " sns.distplot(df['LIMIT_BAL'],kde=True,bins=200, color=\"blue\")\n",
        " plt.show()"
      ]
    },
    {
      "cell_type": "code",
      "execution_count": null,
      "metadata": {
        "id": "66RaKXrGjEpP"
      },
      "outputs": [],
      "source": [
        "df['LIMIT_BAL'].value_counts().head(10)"
      ]
    },
    {
      "cell_type": "code",
      "execution_count": null,
      "metadata": {
        "id": "awZcydH6jU0m"
      },
      "outputs": [],
      "source": [
        "x1 = list(df[df['defaulters'] == 1]['LIMIT_BAL'])\n",
        "x2 = list(df[df['defaulters'] == 0]['LIMIT_BAL'])\n",
        "\n",
        "plt.figure(figsize=(12,4))\n",
        "sns.set_context('notebook', font_scale=1.2)\n",
        "sns.set_color_codes(\"pastel\")\n",
        "plt.hist([x1, x2], bins = 40, color=['r', 'b'])\n",
        "plt.xlim([0,600000])\n",
        "plt.legend(['Yes', 'No'], title = 'defaulters', loc='upper right', facecolor='white')\n",
        "plt.xlabel('Limit Balance (NT dollar)')\n",
        "plt.ylabel('Frequency')\n",
        "plt.title('LIMIT BALANCE HISTOGRAM BY TYPE OF CREDIT CARD', SIZE=15)\n",
        "plt.box(False)\n",
        "plt.savefig('ImageName', format='png', dpi=200, transparent=True);"
      ]
    },
    {
      "cell_type": "code",
      "execution_count": null,
      "metadata": {
        "id": "OSr0nr8Zm0eF"
      },
      "outputs": [],
      "source": [
        "class_1 = df.loc[df['defaulters'] == 1][\"LIMIT_BAL\"]\n",
        "class_0 = df.loc[df['defaulters'] == 0][\"LIMIT_BAL\"]\n",
        "plt.figure(figsize = (14,6))\n",
        "plt.title('defaulters amount of credit limit  - grouped by Payment Next Month (Density Plot)')\n",
        "sns.set_color_codes(\"pastel\")\n",
        "sns.distplot(class_1,kde=True,bins=200, color=\"red\")\n",
        "sns.distplot(class_0,kde=True,bins=200, color=\"green\")\n",
        "plt.savefig('Fig - Density plot LIMIT_BAL grouped by label.png')"
      ]
    },
    {
      "cell_type": "code",
      "execution_count": null,
      "metadata": {
        "id": "21cVHt3FBO33"
      },
      "outputs": [],
      "source": [
        "#distribution correlated features -- scatter interaction\n",
        "import matplotlib.patches as mpatches\n",
        "\n",
        "\n",
        "df_np=df.to_numpy()\n",
        "target=df.defaulters\n",
        "\n",
        "# variables to \n",
        "BILL_AMT1 = df['BILL_AMT1'].to_numpy()\n",
        "BILL_AMT2 = df['BILL_AMT2'].to_numpy()\n",
        "BILL_AMT3 = df['BILL_AMT3'].to_numpy()\n",
        "BILL_AMT4 = df['BILL_AMT4'].to_numpy()\n",
        "BILL_AMT5 = df['BILL_AMT5'].to_numpy()\n",
        "BILL_AMT6 = df['BILL_AMT6'].to_numpy()\n",
        "AGE = df['AGE'].to_numpy()\n",
        "LIMIT_BAL = df['LIMIT_BAL'].to_numpy()\n",
        "PAY_AMT1 = df['PAY_AMT1'].to_numpy()\n",
        "\n",
        "fig, ax = plt.subplots(1,3, figsize= (15,6))\n",
        "\n",
        "labels=[\"Non defaulters\",\"defaulters\"]\n",
        "pop_a = mpatches.Patch(color='steelblue', label='Non defaulters')\n",
        "pop_b = mpatches.Patch(color='crimson', label='defaulters')\n",
        "colors=['crimson', 'steelblue']\n",
        "ax[0].scatter(BILL_AMT1, BILL_AMT2, c=target, cmap=matplotlib.colors.ListedColormap(colors), label=labels, alpha=0.5)\n",
        "ax[0].grid()\n",
        "ax[0].set_xlabel('BILL_AMT1')\n",
        "ax[0].set_ylabel('BILL_AMT2')\n",
        "ax[0].legend(handles= [pop_a,pop_b])\n",
        "\n",
        "ax[1].scatter(BILL_AMT2, BILL_AMT3, c=target, cmap=matplotlib.colors.ListedColormap(colors), alpha=0.5)\n",
        "ax[1].grid()\n",
        "ax[1].set_xlabel('BILL_AMT2')\n",
        "ax[1].set_ylabel('BILL_AMT3')\n",
        "ax[1].legend(handles= [pop_a,pop_b])\n",
        "\n",
        "ax[2].scatter(BILL_AMT4,BILL_AMT5, c=target, cmap=matplotlib.colors.ListedColormap(colors), alpha=0.5)\n",
        "ax[2].grid()\n",
        "ax[2].set_xlabel('BILL_AMT4')\n",
        "ax[2].set_ylabel('BILL_AMT5')\n",
        "ax[2].legend(handles= [pop_a,pop_b])\n",
        "\n",
        "plt.tight_layout()# let's make good plots\n",
        "plt.show()"
      ]
    },
    {
      "cell_type": "code",
      "execution_count": null,
      "metadata": {
        "id": "KG7LTR-gC4_v"
      },
      "outputs": [],
      "source": [
        "#distribution un-correlated features -- scatter interaction\n",
        "\n",
        "fig, ax = plt.subplots(1,3, figsize= (15,6))\n",
        "\n",
        "labels=[\"Non defaulters\",\"defaulters\"]\n",
        "pop_a = mpatches.Patch(color='steelblue', label='Non defaulters')\n",
        "pop_b = mpatches.Patch(color='crimson', label='defaulters')\n",
        "colors=['crimson', 'steelblue']\n",
        "\n",
        "ax[0].scatter(AGE, LIMIT_BAL, c=target, cmap=matplotlib.colors.ListedColormap(colors), label=labels, alpha=0.5)\n",
        "ax[0].grid()\n",
        "ax[0].set_xlabel('AGE')\n",
        "ax[0].set_ylabel('LIMIT_BAL')\n",
        "ax[0].legend(handles= [pop_a,pop_b])\n",
        "\n",
        "ax[1].scatter(AGE, BILL_AMT1, c=target, cmap=matplotlib.colors.ListedColormap(colors), alpha=0.5)\n",
        "ax[1].grid()\n",
        "ax[1].set_xlabel('AGE')\n",
        "ax[1].set_ylabel('BILL_AMT1')\n",
        "ax[1].legend(handles= [pop_a,pop_b])\n",
        "\n",
        "ax[2].scatter(PAY_AMT1,BILL_AMT1, c=target, cmap=matplotlib.colors.ListedColormap(colors), alpha=0.5)\n",
        "ax[2].grid()\n",
        "ax[2].set_xlabel('PAY_AMT1')\n",
        "ax[2].set_ylabel('BILL_AMT1')\n",
        "ax[2].legend(handles= [pop_a,pop_b])\n",
        "\n",
        "plt.tight_layout()# let's make good plots\n",
        "plt.show()"
      ]
    },
    {
      "cell_type": "code",
      "execution_count": null,
      "metadata": {
        "id": "9FXRS7BXbCzK"
      },
      "outputs": [],
      "source": [
        "df.head()"
      ]
    },
    {
      "cell_type": "code",
      "execution_count": null,
      "metadata": {
        "id": "NF_WH2thb1rM"
      },
      "outputs": [],
      "source": [
        "df_final = df.drop(['AGE_BIN', 'ID'], axis = 1) "
      ]
    },
    {
      "cell_type": "code",
      "execution_count": null,
      "metadata": {
        "id": "4k7wrIFgYtXp"
      },
      "outputs": [],
      "source": [
        "df_final.LIMIT_BAL  = df_final.LIMIT_BAL.astype(\"int64\")\n",
        "df_final.AGE  = df_final.AGE.astype(\"int64\")\n"
      ]
    },
    {
      "cell_type": "code",
      "execution_count": null,
      "metadata": {
        "id": "h6KfRV_lsSOU"
      },
      "outputs": [],
      "source": [
        "df_final.head()"
      ]
    },
    {
      "cell_type": "code",
      "execution_count": null,
      "metadata": {
        "id": "CrPuuSlVud41"
      },
      "outputs": [],
      "source": [
        "pd.get_dummies( columns= ['SEX', 'EDUCATION'], prefix = ['SEX', 'EDUCATION'], data = df_final, drop_first = True)"
      ]
    },
    {
      "cell_type": "code",
      "execution_count": null,
      "metadata": {
        "id": "6s2Y2izddnhI"
      },
      "outputs": [],
      "source": [
        "#df_final_2 = pd.get_dummies(df_final, drop_first= True)"
      ]
    },
    {
      "cell_type": "code",
      "execution_count": null,
      "metadata": {
        "id": "WZLVQaWVdxFF"
      },
      "outputs": [],
      "source": []
    },
    {
      "cell_type": "markdown",
      "metadata": {
        "id": "xkfkG3FueSjX"
      },
      "source": [
        "# Classifiers"
      ]
    },
    {
      "cell_type": "code",
      "execution_count": null,
      "metadata": {
        "id": "pzrtq7wveTS2"
      },
      "outputs": [],
      "source": [
        "X = df_final.iloc[:, :-1]\n",
        "Y = df_final['defaulters']"
      ]
    },
    {
      "cell_type": "code",
      "execution_count": null,
      "metadata": {
        "id": "W7of-qyehlVn"
      },
      "outputs": [],
      "source": [
        "x_train, x_test, y_train, y_test = train_test_split(X,Y, test_size = 0.2, random_state = 24,stratify = Y )"
      ]
    },
    {
      "cell_type": "code",
      "execution_count": null,
      "metadata": {
        "id": "HQF7VTxmhwrL"
      },
      "outputs": [],
      "source": [
        "x_train"
      ]
    },
    {
      "cell_type": "code",
      "execution_count": null,
      "metadata": {
        "id": "Pz4thX3dh4Hu"
      },
      "outputs": [],
      "source": [
        "\n",
        "y_train"
      ]
    },
    {
      "cell_type": "code",
      "execution_count": null,
      "metadata": {
        "id": "uZyOBNoNjZGg"
      },
      "outputs": [],
      "source": [
        "y_train = y_train.astype('int')"
      ]
    },
    {
      "cell_type": "code",
      "execution_count": null,
      "metadata": {
        "id": "8drwFaPoidVX"
      },
      "outputs": [],
      "source": [
        "Y = Y.astype('int')\n"
      ]
    },
    {
      "cell_type": "markdown",
      "metadata": {
        "id": "EZaxWolcnoPJ"
      },
      "source": [
        "#Random Forest"
      ]
    },
    {
      "cell_type": "code",
      "execution_count": null,
      "metadata": {
        "id": "L-xO_MroieQw"
      },
      "outputs": [],
      "source": [
        "classifier = RandomForestClassifier() \n",
        "grid_values = {'n_estimators':[50,60,70,80,90,100], 'max_depth':[3, 5, 7,9,11,14]}\n",
        "classifier = GridSearchCV(classifier, param_grid = grid_values, scoring = 'roc_auc', cv=5)\n",
        "\n",
        "# Fit the object to train dataset\n",
        "classifier.fit(x_train, y_train)"
      ]
    },
    {
      "cell_type": "code",
      "execution_count": null,
      "metadata": {
        "id": "zI_RFW4Pl_cy"
      },
      "outputs": [],
      "source": [
        "classifier.best_estimator_"
      ]
    },
    {
      "cell_type": "code",
      "execution_count": null,
      "metadata": {
        "id": "fIcsjyzMnlGT"
      },
      "outputs": [],
      "source": [
        "classifier.best_params_"
      ]
    },
    {
      "cell_type": "markdown",
      "metadata": {
        "id": "oYQ5VAnIn4_v"
      },
      "source": [
        " #Testing Accuracy "
      ]
    },
    {
      "cell_type": "code",
      "execution_count": null,
      "metadata": {
        "id": "kfUNmNLPnvNo"
      },
      "outputs": [],
      "source": [
        "pred = classifier.predict(x_test)"
      ]
    },
    {
      "cell_type": "code",
      "execution_count": null,
      "metadata": {
        "id": "KSHbWM0toCuJ"
      },
      "outputs": [],
      "source": [
        "y_test = y_test.astype('int')"
      ]
    },
    {
      "cell_type": "code",
      "execution_count": null,
      "metadata": {
        "id": "7ooVV7kyoFfM"
      },
      "outputs": [],
      "source": [
        "accuracy_score(y_test,pred)"
      ]
    },
    {
      "cell_type": "code",
      "execution_count": null,
      "metadata": {
        "id": "ImFdUARKoIst"
      },
      "outputs": [],
      "source": [
        "classifier.predict_proba(x_test)"
      ]
    },
    {
      "cell_type": "code",
      "execution_count": null,
      "metadata": {
        "id": "_3FzJbDAoLcP"
      },
      "outputs": [],
      "source": [
        "roc_auc_score(y_test,pred)"
      ]
    },
    {
      "cell_type": "code",
      "execution_count": null,
      "metadata": {
        "id": "v6yV1mR9oOXk"
      },
      "outputs": [],
      "source": [
        "print(classification_report(pred, y_test))\n",
        "print(confusion_matrix( y_test, pred))"
      ]
    },
    {
      "cell_type": "code",
      "execution_count": null,
      "metadata": {
        "id": "hqWId7N3pZGX"
      },
      "outputs": [],
      "source": [
        "recall_score(y_test, pred)"
      ]
    },
    {
      "cell_type": "markdown",
      "metadata": {
        "id": "Yth7m7SxpfDM"
      },
      "source": [
        "recall is 38%\n"
      ]
    },
    {
      "cell_type": "code",
      "execution_count": null,
      "metadata": {
        "id": "ZOoKzq4JpcUc"
      },
      "outputs": [],
      "source": [
        "num_folds = 10\n",
        "seed = 7\n",
        "kfold = KFold(n_splits=num_folds, random_state= seed,shuffle=True)\n",
        "model = KNeighborsClassifier()\n"
      ]
    },
    {
      "cell_type": "code",
      "execution_count": null,
      "metadata": {
        "id": "gnTmH7GWq2Ke"
      },
      "outputs": [],
      "source": [
        "results = cross_val_score(model, X, Y, cv=kfold)\n",
        "print(\"Mean Estimated KNeighbors: %f \" % (results.mean()))"
      ]
    },
    {
      "cell_type": "code",
      "execution_count": null,
      "metadata": {
        "id": "tCkFVRyUrWn0"
      },
      "outputs": [],
      "source": [
        "neighbors = np.arange(1,9)\n",
        "Train_accuracy = np.empty(len(neighbors))\n",
        "Test_accuracy = np.empty(len(neighbors))\n",
        "\n",
        "for i, K in enumerate(neighbors):\n",
        "  knn = KNeighborsClassifier(n_neighbors = K)\n",
        "  knn.fit(x_train,y_train)\n",
        "  Train_accuracy[i] = knn.score(x_train,y_train)\n",
        "  Test_accuracy[i] = knn.score(x_test,y_test)\n",
        "\n"
      ]
    },
    {
      "cell_type": "code",
      "execution_count": null,
      "metadata": {
        "id": "ZT8BsLper00O"
      },
      "outputs": [],
      "source": [
        "Train_accuracy"
      ]
    },
    {
      "cell_type": "code",
      "execution_count": null,
      "metadata": {
        "id": "JO691WFssmc7"
      },
      "outputs": [],
      "source": [
        "Test_accuracy"
      ]
    },
    {
      "cell_type": "code",
      "execution_count": null,
      "metadata": {
        "id": "Sgf3qpt7smur"
      },
      "outputs": [],
      "source": [
        "classifier_knn = KNeighborsClassifier()\n",
        "grid_values_knn = {'n_neighbors':[1,2,3,4,5,6,7,8,9,10,11]}\n",
        "classifier_knn = RandomizedSearchCV(classifier_knn, param_distributions = grid_values_knn, scoring = 'roc_auc', cv=5)\n",
        "\n",
        "# Fit the object to train dataset\n",
        "classifier_knn.fit(x_train, y_train)"
      ]
    },
    {
      "cell_type": "code",
      "execution_count": null,
      "metadata": {
        "id": "EuTzMQorsnAF"
      },
      "outputs": [],
      "source": [
        "classifier_knn.best_params_"
      ]
    },
    {
      "cell_type": "code",
      "execution_count": null,
      "metadata": {
        "id": "ls5qV5dZsnOo"
      },
      "outputs": [],
      "source": [
        "x_test.isna().sum()"
      ]
    },
    {
      "cell_type": "code",
      "execution_count": null,
      "metadata": {
        "id": "tvNY6ULIskOH"
      },
      "outputs": [],
      "source": [
        "pred_knn = classifier_knn.predict(x_test)"
      ]
    },
    {
      "cell_type": "code",
      "execution_count": null,
      "metadata": {
        "id": "FBwwtvCXtgy1"
      },
      "outputs": [],
      "source": [
        "print(\"Accuracy score %s\" %accuracy_score(y_test,pred_knn))\n",
        "#print(\"F1 score %s\" %f1_score(y_test,pred_knn))\n",
        "print(\"Classification report  \\n %s\" %(classification_report(y_test, pred_knn)))"
      ]
    },
    {
      "cell_type": "code",
      "execution_count": null,
      "metadata": {
        "id": "9AxZq-NntjC6"
      },
      "outputs": [],
      "source": [
        "print(confusion_matrix( y_test, pred_knn))"
      ]
    },
    {
      "cell_type": "code",
      "execution_count": null,
      "metadata": {
        "id": "4K7dhS8mttuP"
      },
      "outputs": [],
      "source": [
        "roc_auc_score(y_test,pred_knn)"
      ]
    },
    {
      "cell_type": "code",
      "execution_count": null,
      "metadata": {
        "id": "05RECjIStt_C"
      },
      "outputs": [],
      "source": [
        "recall_score(y_test,pred_knn)"
      ]
    },
    {
      "cell_type": "markdown",
      "metadata": {
        "id": "-O1neG78t3-y"
      },
      "source": [
        "the dataset ,KNN is given a better accuracy"
      ]
    },
    {
      "cell_type": "markdown",
      "metadata": {
        "id": "4fTDqfzavduj"
      },
      "source": [
        "# Implementing SMOT\n",
        "increasing the number of cases in your dataset "
      ]
    },
    {
      "cell_type": "code",
      "execution_count": null,
      "metadata": {
        "id": "M9bwHEROtqvq"
      },
      "outputs": [],
      "source": [
        "X.shape"
      ]
    },
    {
      "cell_type": "code",
      "execution_count": null,
      "metadata": {
        "id": "TBGY_ccPvcyf"
      },
      "outputs": [],
      "source": [
        "Y.shape"
      ]
    },
    {
      "cell_type": "code",
      "execution_count": null,
      "metadata": {
        "id": "07D5qxS9v3Vf"
      },
      "outputs": [],
      "source": [
        "Y.value_counts()"
      ]
    },
    {
      "cell_type": "code",
      "execution_count": null,
      "metadata": {
        "id": "agToi9AFv65p"
      },
      "outputs": [],
      "source": [
        "from collections import Counter\n",
        "from imblearn.over_sampling import SMOTE\n",
        "\n",
        "smote = SMOTE()\n",
        "X_sm, Y_sm = smote.fit_resample(X, Y)\n",
        "# summarize the new class distribution\n",
        "counter = Counter(Y_sm)"
      ]
    },
    {
      "cell_type": "code",
      "execution_count": null,
      "metadata": {
        "id": "npGsJkBdwEFR"
      },
      "outputs": [],
      "source": [
        "counter"
      ]
    },
    {
      "cell_type": "code",
      "execution_count": null,
      "metadata": {
        "id": "XK-wPc6zwMap"
      },
      "outputs": [],
      "source": [
        "x_train_sm, x_test_sm, y_train_sm, y_test_sm = train_test_split(X_sm,Y_sm, test_size = 0.2, random_state = 24,stratify = Y_sm)"
      ]
    },
    {
      "cell_type": "markdown",
      "metadata": {
        "id": "Z9LEZPfMwU_N"
      },
      "source": [
        "## Random Forest with SMOT"
      ]
    },
    {
      "cell_type": "code",
      "execution_count": null,
      "metadata": {
        "id": "wQAeRTshwMXR"
      },
      "outputs": [],
      "source": [
        "classifier_sm = RandomForestClassifier() \n",
        "grid_values_sm = {'n_estimators':[50,60,70,80,90,100], 'max_depth':[3, 5, 7,9,11,14]}\n",
        "classifier = GridSearchCV(classifier, param_grid = grid_values_sm, scoring = 'roc_auc', cv=5)\n",
        "\n",
        "# Fit the object to train dataset\n",
        "classifier_sm.fit(x_train_sm, y_train_sm)"
      ]
    },
    {
      "cell_type": "code",
      "execution_count": null,
      "metadata": {
        "id": "1rH1dOtGwMNa"
      },
      "outputs": [],
      "source": [
        "pred_sm = classifier_sm.predict(x_test_sm)"
      ]
    },
    {
      "cell_type": "code",
      "execution_count": null,
      "metadata": {
        "id": "Yn_0koS4wMKR"
      },
      "outputs": [],
      "source": [
        "roc_auc_score(y_test_sm,pred_sm)"
      ]
    },
    {
      "cell_type": "code",
      "execution_count": null,
      "metadata": {
        "id": "2yzjH6QuwMGl"
      },
      "outputs": [],
      "source": [
        "accuracy_score(y_test_sm,pred_sm)"
      ]
    },
    {
      "cell_type": "code",
      "execution_count": null,
      "metadata": {
        "id": "CTlNDw3KwMC9"
      },
      "outputs": [],
      "source": [
        "confusion_matrix(y_test_sm,pred_sm)"
      ]
    },
    {
      "cell_type": "code",
      "execution_count": null,
      "metadata": {
        "id": "J7ty_WQvwL_W"
      },
      "outputs": [],
      "source": [
        "recall_score(y_test_sm,pred_sm)"
      ]
    },
    {
      "cell_type": "markdown",
      "metadata": {
        "id": "T0oLlnzTw62B"
      },
      "source": [
        "## KNN with SMOT"
      ]
    },
    {
      "cell_type": "code",
      "execution_count": null,
      "metadata": {
        "id": "ukMkV3ETwLxz"
      },
      "outputs": [],
      "source": [
        "# Fit the object to train dataset\n",
        "classifier_knn.fit(x_train_sm, y_train_sm)"
      ]
    },
    {
      "cell_type": "code",
      "execution_count": null,
      "metadata": {
        "id": "gLFToX_TwLCb"
      },
      "outputs": [],
      "source": [
        "pred_knn_sm = classifier_knn.predict(x_test_sm)"
      ]
    },
    {
      "cell_type": "code",
      "execution_count": null,
      "metadata": {
        "id": "LmpCuPbrwGtk"
      },
      "outputs": [],
      "source": [
        "classifier_knn.best_params_"
      ]
    },
    {
      "cell_type": "code",
      "execution_count": null,
      "metadata": {
        "id": "7CDZrtgNxwEN"
      },
      "outputs": [],
      "source": [
        "roc_auc_score(y_test_sm,pred_knn_sm)"
      ]
    },
    {
      "cell_type": "code",
      "execution_count": null,
      "metadata": {
        "id": "HoiwYeRgx1OK"
      },
      "outputs": [],
      "source": [
        "accuracy_score(y_test_sm,pred_knn_sm)"
      ]
    },
    {
      "cell_type": "code",
      "execution_count": null,
      "metadata": {
        "id": "7a_TFle0x4Z_"
      },
      "outputs": [],
      "source": [
        "confusion_matrix(y_test_sm,pred_knn_sm)"
      ]
    },
    {
      "cell_type": "code",
      "execution_count": null,
      "metadata": {
        "id": "Snx1qFYqx9Nk"
      },
      "outputs": [],
      "source": [
        "recall_score(y_test_sm,pred_knn_sm)"
      ]
    },
    {
      "cell_type": "markdown",
      "metadata": {
        "id": "d7oydtA7yG_k"
      },
      "source": [
        "# #XGBoost"
      ]
    },
    {
      "cell_type": "code",
      "execution_count": null,
      "metadata": {
        "id": "zzrh2LTTyCFe"
      },
      "outputs": [],
      "source": [
        "x_train['SEX'] = x_train['SEX'].astype('int') \n",
        "x_train['EDUCATION'] = x_train['EDUCATION'].astype('int') \n",
        "x_train['PAY_0'] = x_train['PAY_0'].astype('int') \n",
        "x_train['PAY_2'] = x_train['PAY_2'].astype('int') \n",
        "x_train['PAY_3'] = x_train['PAY_3'].astype('int') \n",
        "x_train['PAY_4'] = x_train['PAY_4'].astype('int') \n",
        "x_train['PAY_5'] = x_train['PAY_5'].astype('int') \n",
        "x_train['PAY_6'] = x_train['PAY_6'].astype('int') \n",
        "x_train['BILL_AMT1'] = x_train['BILL_AMT1'].astype('int') \n",
        "x_train['BILL_AMT2'] = x_train['BILL_AMT2'].astype('int') \n",
        "x_train['BILL_AMT3'] = x_train['BILL_AMT3'].astype('int') \n",
        "x_train['BILL_AMT4'] = x_train['BILL_AMT4'].astype('int') \n",
        "x_train['BILL_AMT5'] = x_train['BILL_AMT5'].astype('int') \n",
        "x_train['BILL_AMT6'] = x_train['BILL_AMT6'].astype('int') \n",
        "x_train['PAY_AMT1'] = x_train['PAY_AMT1'].astype('int') \n",
        "x_train['PAY_AMT2'] = x_train['PAY_AMT2'].astype('int') \n",
        "x_train['PAY_AMT3'] = x_train['PAY_AMT3'].astype('int') \n",
        "x_train['PAY_AMT4'] = x_train['PAY_AMT4'].astype('int') \n",
        "x_train['PAY_AMT5'] = x_train['PAY_AMT5'].astype('int') \n",
        "x_train['PAY_AMT6'] = x_train['PAY_AMT6'].astype('int') "
      ]
    },
    {
      "cell_type": "code",
      "execution_count": null,
      "metadata": {
        "id": "7u2beDWGyWGv"
      },
      "outputs": [],
      "source": [
        "x_test['SEX'] = x_test['SEX'].astype('int') \n",
        "x_test['EDUCATION'] = x_test['EDUCATION'].astype('int') \n",
        "x_test['PAY_0'] = x_test['PAY_0'].astype('int') \n",
        "x_test['PAY_2'] = x_test['PAY_2'].astype('int') \n",
        "x_test['PAY_3'] = x_test['PAY_3'].astype('int') \n",
        "x_test['PAY_4'] = x_test['PAY_4'].astype('int') \n",
        "x_test['PAY_5'] = x_test['PAY_5'].astype('int') \n",
        "x_test['PAY_6'] = x_test['PAY_6'].astype('int') \n",
        "x_test['BILL_AMT1'] = x_test['BILL_AMT1'].astype('int') \n",
        "x_test['BILL_AMT2'] = x_test['BILL_AMT2'].astype('int') \n",
        "x_test['BILL_AMT3'] = x_test['BILL_AMT3'].astype('int') \n",
        "x_test['BILL_AMT4'] = x_test['BILL_AMT4'].astype('int') \n",
        "x_test['BILL_AMT5'] = x_test['BILL_AMT5'].astype('int') \n",
        "x_test['BILL_AMT6'] = x_test['BILL_AMT6'].astype('int') \n",
        "x_test['PAY_AMT1'] = x_test['PAY_AMT1'].astype('int') \n",
        "x_test['PAY_AMT2'] = x_test['PAY_AMT2'].astype('int') \n",
        "x_test['PAY_AMT3'] = x_test['PAY_AMT3'].astype('int') \n",
        "x_test['PAY_AMT4'] = x_test['PAY_AMT4'].astype('int') \n",
        "x_test['PAY_AMT5'] = x_test['PAY_AMT5'].astype('int') \n",
        "x_test['PAY_AMT6'] = x_test['PAY_AMT6'].astype('int') "
      ]
    },
    {
      "cell_type": "code",
      "execution_count": null,
      "metadata": {
        "id": "GXa7z4VfyYna"
      },
      "outputs": [],
      "source": [
        "xgb = XGBClassifier()\n",
        "\n",
        "xgb.fit(x_train,y_train)"
      ]
    },
    {
      "cell_type": "code",
      "execution_count": null,
      "metadata": {
        "id": "a_aOTvDNycjv"
      },
      "outputs": [],
      "source": [
        "xgb_pred = xgb.predict(x_test)"
      ]
    },
    {
      "cell_type": "code",
      "execution_count": null,
      "metadata": {
        "id": "IeITEgB1yfSO"
      },
      "outputs": [],
      "source": [
        "roc_auc_score(y_test,xgb_pred)"
      ]
    },
    {
      "cell_type": "code",
      "execution_count": null,
      "metadata": {
        "id": "NMHGwXgRyi5c"
      },
      "outputs": [],
      "source": [
        "recall_score(y_test,xgb_pred)"
      ]
    },
    {
      "cell_type": "markdown",
      "metadata": {
        "id": "ziM0Blvpyqym"
      },
      "source": [
        "## XGboost with smote"
      ]
    },
    {
      "cell_type": "code",
      "execution_count": null,
      "metadata": {
        "id": "sI2tONrDyjpO"
      },
      "outputs": [],
      "source": [
        "x_train_sm['SEX'] = x_train_sm['SEX'].astype('int') \n",
        "x_train_sm['EDUCATION'] = x_train_sm['EDUCATION'].astype('int') \n",
        "x_train_sm['PAY_0'] = x_train_sm['PAY_0'].astype('int') \n",
        "x_train_sm['PAY_2'] = x_train_sm['PAY_2'].astype('int') \n",
        "x_train_sm['PAY_3'] = x_train_sm['PAY_3'].astype('int') \n",
        "x_train_sm['PAY_4'] = x_train_sm['PAY_4'].astype('int') \n",
        "x_train_sm['PAY_5'] = x_train_sm['PAY_5'].astype('int') \n",
        "x_train_sm['PAY_6'] = x_train_sm['PAY_6'].astype('int') \n",
        "x_train_sm['BILL_AMT1'] = x_train_sm['BILL_AMT1'].astype('int') \n",
        "x_train_sm['BILL_AMT2'] = x_train_sm['BILL_AMT2'].astype('int') \n",
        "x_train_sm['BILL_AMT3'] = x_train_sm['BILL_AMT3'].astype('int') \n",
        "x_train_sm['BILL_AMT4'] = x_train_sm['BILL_AMT4'].astype('int') \n",
        "x_train_sm['BILL_AMT5'] = x_train_sm['BILL_AMT5'].astype('int') \n",
        "x_train_sm['BILL_AMT6'] = x_train_sm['BILL_AMT6'].astype('int') \n",
        "x_train_sm['PAY_AMT1'] = x_train_sm['PAY_AMT1'].astype('int') \n",
        "x_train_sm['PAY_AMT2'] = x_train_sm['PAY_AMT2'].astype('int') \n",
        "x_train_sm['PAY_AMT3'] = x_train_sm['PAY_AMT3'].astype('int') \n",
        "x_train_sm['PAY_AMT4'] = x_train_sm['PAY_AMT4'].astype('int') \n",
        "x_train_sm['PAY_AMT5'] = x_train_sm['PAY_AMT5'].astype('int') \n",
        "x_train_sm['PAY_AMT6'] = x_train_sm['PAY_AMT6'].astype('int') "
      ]
    },
    {
      "cell_type": "code",
      "execution_count": null,
      "metadata": {
        "id": "6rtxy7d5yg6f"
      },
      "outputs": [],
      "source": [
        "x_test_sm['SEX'] = x_test_sm['SEX'].astype('int') \n",
        "x_test_sm['EDUCATION'] = x_test_sm['EDUCATION'].astype('int') \n",
        "x_test_sm['PAY_0'] = x_test_sm['PAY_0'].astype('int') \n",
        "x_test_sm['PAY_2'] = x_test_sm['PAY_2'].astype('int') \n",
        "x_test_sm['PAY_3'] = x_test_sm['PAY_3'].astype('int') \n",
        "x_test_sm['PAY_4'] = x_test_sm['PAY_4'].astype('int') \n",
        "x_test_sm['PAY_5'] = x_test_sm['PAY_5'].astype('int') \n",
        "x_test_sm['PAY_6'] = x_test_sm['PAY_6'].astype('int') \n",
        "x_test_sm['BILL_AMT1'] = x_test_sm['BILL_AMT1'].astype('int') \n",
        "x_test_sm['BILL_AMT2'] = x_test_sm['BILL_AMT2'].astype('int') \n",
        "x_test_sm['BILL_AMT3'] = x_test_sm['BILL_AMT3'].astype('int') \n",
        "x_test_sm['BILL_AMT4'] = x_test_sm['BILL_AMT4'].astype('int') \n",
        "x_test_sm['BILL_AMT5'] = x_test_sm['BILL_AMT5'].astype('int') \n",
        "x_test_sm['BILL_AMT6'] = x_test_sm['BILL_AMT6'].astype('int') \n",
        "x_test_sm['PAY_AMT1'] = x_test_sm['PAY_AMT1'].astype('int') \n",
        "x_test_sm['PAY_AMT2'] = x_test_sm['PAY_AMT2'].astype('int') \n",
        "x_test_sm['PAY_AMT3'] = x_test_sm['PAY_AMT3'].astype('int') \n",
        "x_test_sm['PAY_AMT4'] = x_test_sm['PAY_AMT4'].astype('int') \n",
        "x_test_sm['PAY_AMT5'] = x_test_sm['PAY_AMT5'].astype('int') \n",
        "x_test_sm['PAY_AMT6'] = x_test_sm['PAY_AMT6'].astype('int') "
      ]
    },
    {
      "cell_type": "code",
      "execution_count": null,
      "metadata": {
        "id": "HpLRGzcKyjxu"
      },
      "outputs": [],
      "source": [
        "xgb_sm = XGBClassifier()\n",
        "\n",
        "xgb_sm.fit(x_train_sm,y_train_sm)"
      ]
    },
    {
      "cell_type": "code",
      "execution_count": null,
      "metadata": {
        "id": "ici1ya4Qy3u0"
      },
      "outputs": [],
      "source": [
        "xgb_pred_sm = xgb_sm.predict(x_test_sm)"
      ]
    },
    {
      "cell_type": "code",
      "execution_count": null,
      "metadata": {
        "id": "TbMvnHANy6ZF"
      },
      "outputs": [],
      "source": [
        "xgb_pred_sm = xgb_sm.predict(x_test_sm)"
      ]
    },
    {
      "cell_type": "code",
      "execution_count": null,
      "metadata": {
        "id": "_0LNGf7sy-le"
      },
      "outputs": [],
      "source": [
        "roc_auc_score(y_test_sm,xgb_pred_sm)"
      ]
    },
    {
      "cell_type": "markdown",
      "metadata": {
        "id": "mO0SUU5m4iLp"
      },
      "source": [
        "#  Performance Improvement :ENSEMBLES Voting\n"
      ]
    },
    {
      "cell_type": "code",
      "execution_count": null,
      "metadata": {
        "id": "vnq_bzxI2o14"
      },
      "outputs": [],
      "source": [
        "from sklearn.ensemble import AdaBoostClassifier\n",
        "from sklearn.ensemble import GradientBoostingClassifier"
      ]
    },
    {
      "cell_type": "code",
      "execution_count": null,
      "metadata": {
        "id": "sEMvwsNBxxNv"
      },
      "outputs": [],
      "source": [
        "\n",
        "seed = 7\n",
        "num_trees = 100\n",
        "max_features = 3\n",
        "kfold = KFold(n_splits=10, random_state=7,shuffle=True)"
      ]
    },
    {
      "cell_type": "code",
      "execution_count": null,
      "metadata": {
        "id": "xzaxuiAd2Zwc"
      },
      "outputs": [],
      "source": [
        "# ADA Boost model\n",
        "model = AdaBoostClassifier(n_estimators=num_trees,random_state=seed)\n",
        "results = cross_val_score(model, X, Y, cv=kfold)\n",
        "print(\"Accuracy ADA Boost: %f \" % (results.mean()))\n"
      ]
    },
    {
      "cell_type": "code",
      "execution_count": null,
      "metadata": {
        "id": "7BuiuwYs3Myo"
      },
      "outputs": [],
      "source": [
        "# Gradient Boosting model\n",
        "model =GradientBoostingClassifier(n_estimators=num_trees,random_state=seed)\n",
        "results = cross_val_score(model, X, Y, cv=kfold)\n",
        "print(\"Accuracy Gradinet Boost: %f \" % (results.mean()))\n"
      ]
    },
    {
      "cell_type": "code",
      "execution_count": null,
      "metadata": {
        "id": "80LOsvoGzALu"
      },
      "outputs": [],
      "source": [
        "# voting Ensemble for Classification\n",
        "from sklearn.ensemble import BaggingClassifier\n",
        "from sklearn.ensemble import RandomForestClassifier\n",
        "from sklearn.ensemble import ExtraTreesClassifier\n",
        "\n",
        "\n"
      ]
    },
    {
      "cell_type": "code",
      "execution_count": null,
      "metadata": {
        "id": "zgresrnVzgD2"
      },
      "outputs": [],
      "source": [
        "\n",
        "seed = 7\n",
        "num_trees = 100\n",
        "max_features = 3\n",
        "kfold = KFold(n_splits=10, random_state=7,shuffle=True)"
      ]
    },
    {
      "cell_type": "code",
      "execution_count": null,
      "metadata": {
        "id": "k6T-M_3bzmxI"
      },
      "outputs": [],
      "source": [
        "# bagged Decision Tress model\n",
        "cart = DecisionTreeClassifier()\n",
        "model = BaggingClassifier(base_estimator=cart, n_estimators= num_trees,random_state=seed)\n",
        "results = cross_val_score(model, X, Y, cv=kfold)\n",
        "print(\"Accuracy Bagged Decision Trees: %f\" % (results.mean()))"
      ]
    },
    {
      "cell_type": "code",
      "execution_count": null,
      "metadata": {
        "id": "UwgQPVm4zxqY"
      },
      "outputs": [],
      "source": [
        "# Random forest model\n",
        "model = RandomForestClassifier(n_estimators=num_trees, max_features=max_features)\n",
        "results = cross_val_score(model, X, Y, cv=kfold)\n",
        "print(\"Accuracy Random Forest: %f \" % (results.mean()))"
      ]
    },
    {
      "cell_type": "code",
      "execution_count": null,
      "metadata": {
        "id": "70MaJ0c82FOT"
      },
      "outputs": [],
      "source": [
        "# Extra Trees Model\n",
        "model =ExtraTreesClassifier(n_estimators=num_trees, max_features=max_features)\n",
        "results = cross_val_score(model, X, Y, cv=kfold)\n",
        "print(\"Accuracy Extre Trees: %f \" % (results.mean()))\n"
      ]
    },
    {
      "cell_type": "code",
      "execution_count": null,
      "metadata": {
        "id": "dBt4dDbB1xGT"
      },
      "outputs": [],
      "source": []
    }
  ],
  "metadata": {
    "colab": {
      "provenance": [],
      "include_colab_link": true
    },
    "kernelspec": {
      "display_name": "Python 3",
      "language": "python",
      "name": "python3"
    },
    "language_info": {
      "codemirror_mode": {
        "name": "ipython",
        "version": 3
      },
      "file_extension": ".py",
      "mimetype": "text/x-python",
      "name": "python",
      "nbconvert_exporter": "python",
      "pygments_lexer": "ipython3",
      "version": "3.6.6"
    }
  },
  "nbformat": 4,
  "nbformat_minor": 0
}